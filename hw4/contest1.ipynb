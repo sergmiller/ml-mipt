{
 "cells": [
  {
   "cell_type": "code",
   "execution_count": 162,
   "metadata": {
    "collapsed": false,
    "deletable": true,
    "editable": true
   },
   "outputs": [],
   "source": [
    "import numpy as np\n",
    "import pandas as pd\n",
    "import matplotlib.pyplot as plt\n",
    "import scipy.stats as sps\n",
    "plt.style.use('ggplot')\n",
    "from sympy import *\n",
    "import copy\n",
    "from matplotlib import cm\n",
    "from scipy import sparse\n",
    "import scipy.sparse as sprs\n",
    "from sklearn.svm import SVC\n",
    "from scipy.sparse.csr import csr_matrix\n",
    "from sklearn.feature_extraction.text import CountVectorizer\n",
    "from sklearn.feature_extraction.text import TfidfVectorizer\n",
    "from sklearn.metrics import make_scorer\n",
    "from sklearn.tree import DecisionTreeClassifier\n",
    "from sklearn.ensemble import RandomForestClassifier\n",
    "from sklearn.linear_model import Lasso, LogisticRegression\n",
    "from sklearn.metrics import roc_auc_score\n",
    "from sklearn import cross_validation\n",
    "from sklearn.ensemble import BaggingClassifier, AdaBoostClassifier, RandomForestClassifier\n",
    "from joblib import Parallel, delayed\n",
    "import multiprocessing\n",
    "from sklearn.model_selection import GridSearchCV\n",
    "%matplotlib inline"
   ]
  },
  {
   "cell_type": "code",
   "execution_count": 22,
   "metadata": {
    "collapsed": true,
    "deletable": true,
    "editable": true
   },
   "outputs": [],
   "source": [
    "row_train = pd.read_csv('linear_train.txt',header=-1)\n",
    "row_test = pd.read_csv('linear_test.txt',header=-1)"
   ]
  },
  {
   "cell_type": "code",
   "execution_count": 23,
   "metadata": {
    "collapsed": false,
    "deletable": true,
    "editable": true
   },
   "outputs": [
    {
     "data": {
      "text/html": [
       "<div>\n",
       "<table border=\"1\" class=\"dataframe\">\n",
       "  <thead>\n",
       "    <tr style=\"text-align: right;\">\n",
       "      <th></th>\n",
       "      <th>0</th>\n",
       "      <th>1</th>\n",
       "    </tr>\n",
       "  </thead>\n",
       "  <tbody>\n",
       "    <tr>\n",
       "      <th>0</th>\n",
       "      <td>Аалтонен</td>\n",
       "      <td>1</td>\n",
       "    </tr>\n",
       "    <tr>\n",
       "      <th>1</th>\n",
       "      <td>Аар</td>\n",
       "      <td>0</td>\n",
       "    </tr>\n",
       "    <tr>\n",
       "      <th>2</th>\n",
       "      <td>Аарон</td>\n",
       "      <td>0</td>\n",
       "    </tr>\n",
       "    <tr>\n",
       "      <th>3</th>\n",
       "      <td>ААРОН</td>\n",
       "      <td>0</td>\n",
       "    </tr>\n",
       "    <tr>\n",
       "      <th>4</th>\n",
       "      <td>Аарона</td>\n",
       "      <td>0</td>\n",
       "    </tr>\n",
       "  </tbody>\n",
       "</table>\n",
       "</div>"
      ],
      "text/plain": [
       "          0  1\n",
       "0  Аалтонен  1\n",
       "1       Аар  0\n",
       "2     Аарон  0\n",
       "3     ААРОН  0\n",
       "4    Аарона  0"
      ]
     },
     "execution_count": 23,
     "metadata": {},
     "output_type": "execute_result"
    }
   ],
   "source": [
    "row_train.head()"
   ]
  },
  {
   "cell_type": "code",
   "execution_count": 24,
   "metadata": {
    "collapsed": false,
    "deletable": true,
    "editable": true
   },
   "outputs": [
    {
     "data": {
      "text/html": [
       "<div>\n",
       "<table border=\"1\" class=\"dataframe\">\n",
       "  <thead>\n",
       "    <tr style=\"text-align: right;\">\n",
       "      <th></th>\n",
       "      <th>0</th>\n",
       "    </tr>\n",
       "  </thead>\n",
       "  <tbody>\n",
       "    <tr>\n",
       "      <th>0</th>\n",
       "      <td>Аалто</td>\n",
       "    </tr>\n",
       "    <tr>\n",
       "      <th>1</th>\n",
       "      <td>ААР</td>\n",
       "    </tr>\n",
       "    <tr>\n",
       "      <th>2</th>\n",
       "      <td>Аара</td>\n",
       "    </tr>\n",
       "    <tr>\n",
       "      <th>3</th>\n",
       "      <td>Ааре</td>\n",
       "    </tr>\n",
       "    <tr>\n",
       "      <th>4</th>\n",
       "      <td>Аарон</td>\n",
       "    </tr>\n",
       "  </tbody>\n",
       "</table>\n",
       "</div>"
      ],
      "text/plain": [
       "       0\n",
       "0  Аалто\n",
       "1    ААР\n",
       "2   Аара\n",
       "3   Ааре\n",
       "4  Аарон"
      ]
     },
     "execution_count": 24,
     "metadata": {},
     "output_type": "execute_result"
    }
   ],
   "source": [
    "row_test.head()"
   ]
  },
  {
   "cell_type": "code",
   "execution_count": 47,
   "metadata": {
    "collapsed": false,
    "deletable": true,
    "editable": true
   },
   "outputs": [],
   "source": [
    "def add_column(frame, data, names):\n",
    "    new_fr = pd.DataFrame(data, columns=names)\n",
    "    return pd.concat((frame, new_fr),axis=1)\n",
    "\n",
    "def gen_suffixes(frame, slen):\n",
    "    suff = set()\n",
    "    for w in frame[0]:\n",
    "        for l in range(1,slen+1):\n",
    "            suff.add(w[-l:])\n",
    "    return suff\n",
    "\n",
    "def add_strs(frame,suffixes=None):\n",
    "    if suffixes is None:\n",
    "        suffixes = gen_suffixes(frame)\n",
    "#     for suff in suffixes:\n",
    "    suffixes_set = suffixes\n",
    "    suffixes = list(suffixes)\n",
    "    data = np.zeros((len(frame[0]),len(suffixes)))\n",
    "    numb = {suffixes[i]:i for i in range(len(suffixes))}\n",
    "    strs = frame[0]\n",
    "    for i in range(len(strs)):\n",
    "        for k in range(len(strs[i])):\n",
    "            for j in range(2):\n",
    "                suff = strs[i][k:]\n",
    "                if j > 0 and len(suff) > 1:\n",
    "                    suff = suff[:-1]\n",
    "                if suff in suffixes_set:\n",
    "                    cur = numb[suff]\n",
    "                    data[i][cur] = 1\n",
    "    frame = add_column(frame, data, suffixes)\n",
    "    frame = frame.drop([0],axis=1)\n",
    "    if 1 in frame.columns:\n",
    "        frame = frame.drop([1],axis=1)\n",
    "    return sprs.coo_matrix(frame), suffixes_set"
   ]
  },
  {
   "cell_type": "code",
   "execution_count": 26,
   "metadata": {
    "collapsed": true,
    "deletable": true,
    "editable": true
   },
   "outputs": [],
   "source": [
    "def add_custom(frame, f, name):\n",
    "    data = np.array([f(x) for x in frame[0]]).reshape((len(frame[0]),1))\n",
    "    return add_column(frame, data, [name])\n",
    "\n",
    "def normalize(frame, name):\n",
    "    frame[name] = (np.array(frame[name]) - np.mean(frame[name]))/np.std(frame[name])\n",
    "    return frame\n",
    "\n",
    "def clear(train, test):\n",
    "    lenn = len(train[0])\n",
    "    for c in test.columns:\n",
    "        if c != 0:\n",
    "            summ = np.sum(np.array(train[c]))\n",
    "            if summ == lenn or summ == 0:\n",
    "                train = train.drop([c], axis=1)\n",
    "                test = test.drop([c],axis=1)\n",
    "    return train, test\n",
    "\n",
    "def normalize_all(train, test):\n",
    "    for c in test.columns:\n",
    "        if c != 0:\n",
    "            arr = np.array(train[c])\n",
    "            m = np.mean(arr)\n",
    "            s = np.std(arr)\n",
    "            train[c] = (train[c] - m)/s\n",
    "            test[c] = (test[c] - m)/s\n",
    "    return train, test"
   ]
  },
  {
   "cell_type": "code",
   "execution_count": 7,
   "metadata": {
    "collapsed": false,
    "deletable": true,
    "editable": true
   },
   "outputs": [
    {
     "name": "stdout",
     "output_type": "stream",
     "text": [
      "CPU times: user 32.3 s, sys: 9.1 s, total: 41.4 s\n",
      "Wall time: 42 s\n"
     ]
    }
   ],
   "source": [
    "%%time\n",
    "for i in range(len(row_train[0])):\n",
    "    s = row_train[0][i]\n",
    "    if row_train[1][i] == 1:\n",
    "        if s[-1] == 'а' and len(s) > 1:\n",
    "            row_train.loc[len(row_train[0])]=([s[:-1],1])"
   ]
  },
  {
   "cell_type": "code",
   "execution_count": 212,
   "metadata": {
    "collapsed": false,
    "deletable": true,
    "editable": true
   },
   "outputs": [
    {
     "data": {
      "text/html": [
       "<div>\n",
       "<table border=\"1\" class=\"dataframe\">\n",
       "  <thead>\n",
       "    <tr style=\"text-align: right;\">\n",
       "      <th></th>\n",
       "      <th>0</th>\n",
       "      <th>1</th>\n",
       "    </tr>\n",
       "  </thead>\n",
       "  <tbody>\n",
       "    <tr>\n",
       "      <th>101403</th>\n",
       "      <td>Ёлкин</td>\n",
       "      <td>1</td>\n",
       "    </tr>\n",
       "    <tr>\n",
       "      <th>101404</th>\n",
       "      <td>ёлкой</td>\n",
       "      <td>0</td>\n",
       "    </tr>\n",
       "    <tr>\n",
       "      <th>101405</th>\n",
       "      <td>ёлок</td>\n",
       "      <td>0</td>\n",
       "    </tr>\n",
       "    <tr>\n",
       "      <th>101406</th>\n",
       "      <td>ёлочкой</td>\n",
       "      <td>0</td>\n",
       "    </tr>\n",
       "    <tr>\n",
       "      <th>101407</th>\n",
       "      <td>ёмкость</td>\n",
       "      <td>0</td>\n",
       "    </tr>\n",
       "  </tbody>\n",
       "</table>\n",
       "</div>"
      ],
      "text/plain": [
       "              0  1\n",
       "101403    Ёлкин  1\n",
       "101404    ёлкой  0\n",
       "101405     ёлок  0\n",
       "101406  ёлочкой  0\n",
       "101407  ёмкость  0"
      ]
     },
     "execution_count": 212,
     "metadata": {},
     "output_type": "execute_result"
    }
   ],
   "source": [
    "row_train.tail()"
   ]
  },
  {
   "cell_type": "code",
   "execution_count": 156,
   "metadata": {
    "collapsed": false,
    "deletable": true,
    "editable": true
   },
   "outputs": [],
   "source": [
    "def get_suff(train, maxlen=5):\n",
    "    td = dict()\n",
    "    idf = dict()\n",
    "    for i in range(len(train[0])):\n",
    "        s = train[0][i]\n",
    "        for l in range(1,maxlen):\n",
    "            if len(s) < l:\n",
    "                continue\n",
    "            for j in [0,1]:\n",
    "                suffx = s[-l:]\n",
    "                if j == 1 and len(suffx) > 1:\n",
    "                    suffx = suffx[:-1]\n",
    "\n",
    "                if suffx[0].isupper() and not suffx.isupper():\n",
    "                    continue\n",
    "                if suffx not in td:\n",
    "                    td[suffx] = 0\n",
    "                    idf[suffx] = 0\n",
    "                idf[suffx] += 1\n",
    "                if train[1][i] == 1:\n",
    "                    td[suffx] += 1\n",
    "\n",
    "    tdidf = []\n",
    "    s1 =  np.sum(train[1])\n",
    "    s2 = len(train[1])\n",
    "    alpha = (s2-s1)/s1\n",
    "    for key in td:\n",
    "        tdidf.append(((td[key] - alpha*(idf[key] - td[key])) * np.log(len(train[0])/idf[key]),key))\n",
    "#         tdidf.append((td[key] * np.log(len(train[0])/idf[key]),key))\n",
    "    tdidf = sorted(tdidf)\n",
    "    return [w[1] for w in tdidf[-2000:]]"
   ]
  },
  {
   "cell_type": "code",
   "execution_count": 220,
   "metadata": {
    "collapsed": true
   },
   "outputs": [],
   "source": [
    "def add_count_vectorizer_features(train, test):\n",
    "    vectorizer = CountVectorizer(min_df=2, max_df=.9,\n",
    "                             max_features=None,\n",
    "                             ngram_range=(2, 10),\n",
    "                             lowercase=False,\n",
    "                             analyzer='char_wb', \n",
    "                             binary=True)\n",
    "    TTrainM = vectorizer.fit_transform(train[0])\n",
    "    TTestM = vectorizer.transform(test[0])\n",
    "    return TTrainM, TTestM\n",
    "\n",
    "def add_tdidf_vectorizer_features(train, test):\n",
    "    vectorizer = TfidfVectorizer(min_df=2, max_df=.9,\n",
    "                             max_features=None,\n",
    "                             ngram_range=(2, 10),\n",
    "                             lowercase=False,\n",
    "                             analyzer='char_wb', \n",
    "                             binary=True)\n",
    "    TTrainM = vectorizer.fit_transform(train[0])\n",
    "    TTestM = vectorizer.transform(test[0])\n",
    "    return TTrainM, TTestM"
   ]
  },
  {
   "cell_type": "code",
   "execution_count": 221,
   "metadata": {
    "collapsed": false,
    "deletable": true,
    "editable": true
   },
   "outputs": [],
   "source": [
    "def add_custom_features(train, test):\n",
    "    Train = add_custom(train, (lambda s: len(s)),'_len')\n",
    "    Test = add_custom(test, (lambda s: len(s)),'_len')\n",
    "#     Train = add_custom(Train, (lambda s: s[0].isupper()), '0_upper')\n",
    "#     Test = add_custom(Test, (lambda s: s[0].isupper()), '0_upper')\n",
    "#     Train = add_custom(Train, (lambda s: s[1:].islower()), '1_lower')\n",
    "#     Test = add_custom(Test, (lambda s: s[1:].islower()), '1_lower')\n",
    "#     Train = add_custom(Train, (lambda s: s[0].isupper() and s[1:].islower()), 'up_low')\n",
    "#     Test = add_custom(Test, (lambda s: s[0].isupper() and s[1:].islower()), 'up_low')\n",
    "#     Train = add_custom(Train, (lambda s: not s.isalpha()), 'trash')\n",
    "#     Test = add_custom(Test, (lambda s: not s.isalpha()), 'trash')\n",
    "    Train = Train.drop([0,1],axis=1)\n",
    "    Test = Test.drop([0],axis=1)\n",
    "    if 1 in Test.columns:\n",
    "        Test = Test.drop([1],axis=1)\n",
    "    return np.array(Train,dtype=float), np.array(Test,dtype=float)"
   ]
  },
  {
   "cell_type": "code",
   "execution_count": 222,
   "metadata": {
    "collapsed": true
   },
   "outputs": [],
   "source": [
    "from joblib import Parallel, delayed\n",
    "import multiprocessing"
   ]
  },
  {
   "cell_type": "code",
   "execution_count": 223,
   "metadata": {
    "collapsed": false
   },
   "outputs": [],
   "source": [
    "def gen_features_frames(train, test):\n",
    "    train_vect, test_vect = add_count_vectorizer_features(train, test)\n",
    "    train_my_f, test_my_f = add_custom_features(train, test)\n",
    "#     train_tdidf, test_tdidf = add_tdidf_vectorizer_features(train, test)\n",
    "#     best = get_suff(train,8)\n",
    "#     train_suff,dum = add_strs(train,suffixes=best)\n",
    "#     test_suff,dum = add_strs(test, suffixes=best)\n",
    "    Train = sprs.hstack([train_vect, sprs.coo_matrix(train_my_f)])\n",
    "    Test = sprs.hstack([test_vect,  sprs.coo_matrix(test_my_f)])\n",
    "#     Train = sprs.hstack([train_vect, train_tdidf, sprs.coo_matrix(train_my_f), train_suff])\n",
    "#     Test = sprs.hstack([test_vect, test_tdidf, sprs.coo_matrix(test_my_f), test_suff])\n",
    "    \n",
    "#     Train, Test = train_vect, test_vect\n",
    "    return Train, Test\n",
    "\n",
    "def do(train_indices, test_indices, Train, Y,clf,rep=1):\n",
    "        Train_train = Train.loc[train_indices]\n",
    "        Train_test = Train.loc[test_indices]\n",
    "        Train_train.index = np.arange(len(train_indices))\n",
    "        Train_test.index = np.arange(len(test_indices))\n",
    "        x_train, x_test = gen_features_frames(Train_train, Train_test)\n",
    "        y_train = Y[train_indices]\n",
    "        y_test = Y[test_indices]\n",
    "        y_pred = np.zeros(len(y_test))\n",
    "        for t in range(rep):\n",
    "            clf.fit(sprs.coo_matrix(x_train),y_train)\n",
    "            y_pred += np.log(np.array(clf.predict_proba(sprs.coo_matrix(x_test))[:,1]))\n",
    "#         y_pred = [y if y > 1e-5 else 0 for y in y_pred]\n",
    "#         y_pred = np.exp(y_pred/rep)\n",
    "        return roc_auc_score(y_test, y_pred)\n",
    "\n",
    "def cross_val(Train,  clf, folds=4, jobs=1):\n",
    "    score = []\n",
    "    Y = Train[1]\n",
    "    score = Parallel(n_jobs=jobs)(delayed(do)(train_indices, test_indices, Train, Y,clf)\n",
    "                               for train_indices, test_indices \n",
    "                               in cross_validation.KFold(len(Y), n_folds = folds))\n",
    "    return [np.mean(score), np.std(score)]"
   ]
  },
  {
   "cell_type": "code",
   "execution_count": 225,
   "metadata": {
    "collapsed": true
   },
   "outputs": [],
   "source": [
    "clfs = [\n",
    "        LogisticRegression(penalty='l1',\n",
    "                    max_iter=1000,\n",
    "                    C=10,\n",
    "                    class_weight='balanced',\n",
    "                    verbose=True),\n",
    "#     RandomForestClassifier(max_depth=4,n_estimators=10,n_jobs=1,verbose=True)\n",
    "#     SVC(class_weight='balanced',kernel='poly',degree=4,coef0=1,gamma=1)\n",
    "]"
   ]
  },
  {
   "cell_type": "code",
   "execution_count": 224,
   "metadata": {
    "collapsed": false
   },
   "outputs": [
    {
     "name": "stderr",
     "output_type": "stream",
     "text": [
      "/Users/sergmiller/anaconda3/lib/python3.6/site-packages/sklearn/svm/base.py:920: ConvergenceWarning: Liblinear failed to converge, increase the number of iterations.\n",
      "  \"the number of iterations.\", ConvergenceWarning)\n",
      "/Users/sergmiller/anaconda3/lib/python3.6/site-packages/sklearn/svm/base.py:920: ConvergenceWarning: Liblinear failed to converge, increase the number of iterations.\n",
      "  \"the number of iterations.\", ConvergenceWarning)\n",
      "/Users/sergmiller/anaconda3/lib/python3.6/site-packages/sklearn/svm/base.py:920: ConvergenceWarning: Liblinear failed to converge, increase the number of iterations.\n",
      "  \"the number of iterations.\", ConvergenceWarning)\n"
     ]
    },
    {
     "name": "stdout",
     "output_type": "stream",
     "text": [
      "[0.84712799162819896, 0.0025336517000350703]\n",
      "CPU times: user 232 ms, sys: 87.5 ms, total: 319 ms\n",
      "Wall time: 42.6 s\n"
     ]
    }
   ],
   "source": [
    "%%time\n",
    "\n",
    "\n",
    "ans = []\n",
    "for clf in clfs:\n",
    "    ans.append(cross_val(row_train, clf, 3,3))\n",
    "    print(ans[-1])"
   ]
  },
  {
   "cell_type": "code",
   "execution_count": null,
   "metadata": {
    "collapsed": true
   },
   "outputs": [],
   "source": [
    "[0.86820289706981313, 0.0052956574159349831] - difficult tdidf\n",
    "[0.86792215132234762, 0.0059266876611548044] - easy tdidf\n"
   ]
  },
  {
   "cell_type": "code",
   "execution_count": 227,
   "metadata": {
    "collapsed": false,
    "deletable": true,
    "editable": true
   },
   "outputs": [],
   "source": [
    "def calc_score(Train,Test,clf,rep=1):\n",
    "    Y = Train[1]\n",
    "    x_train, x_test = gen_features_frames(Train, Test)\n",
    "    y_pred = np.zeros(len(Test[0]))\n",
    "    for t in range(rep):\n",
    "        clf.fit(sprs.coo_matrix(x_train),Y)\n",
    "        y_pred += np.log(np.array(clf.predict_proba(sprs.coo_matrix(x_test))[:,1]))\n",
    "    y_pred = np.exp(y_pred/rep)\n",
    "    return y_pred"
   ]
  },
  {
   "cell_type": "code",
   "execution_count": 228,
   "metadata": {
    "collapsed": false,
    "deletable": true,
    "editable": true,
    "scrolled": true
   },
   "outputs": [
    {
     "name": "stdout",
     "output_type": "stream",
     "text": [
      "[LibLinear]CPU times: user 1min 31s, sys: 1.86 s, total: 1min 33s\n",
      "Wall time: 1min 34s\n"
     ]
    }
   ],
   "source": [
    "%%time\n",
    "clf = LogisticRegression(penalty='l1',\n",
    "                    max_iter=1000,\n",
    "                    C=10,\n",
    "                    class_weight='balanced',\n",
    "                    verbose=True)\n",
    "\n",
    "y_pred = calc_score(row_train, row_test, clf)"
   ]
  },
  {
   "cell_type": "code",
   "execution_count": 208,
   "metadata": {
    "collapsed": false,
    "deletable": true,
    "editable": true
   },
   "outputs": [],
   "source": [
    "def save_ans(_y_test, filename):\n",
    "    print(_y_test)\n",
    "    names = np.arange(len(_y_test))\n",
    "    ans = pd.DataFrame(data=np.matrix(_y_test).T, columns=['Answer'])\n",
    "    ans = pd.concat((pd.DataFrame(names,columns=['Id']),ans),axis=1)\n",
    "    ans.to_csv(filename,index=None)\n",
    "\n",
    "def predict(clf,file,X,Y,_test,times=1):\n",
    "    pred = np.zeros(len(row_test[0]))\n",
    "    for t in range(times):\n",
    "        clf.fit(X,Y)\n",
    "        pred += clf.predict_proba(_test)[:,1]\n",
    "    pred /= times\n",
    "    save_ans(pred, file)"
   ]
  },
  {
   "cell_type": "code",
   "execution_count": 229,
   "metadata": {
    "collapsed": false
   },
   "outputs": [
    {
     "name": "stdout",
     "output_type": "stream",
     "text": [
      "[  2.71748855e-01   3.44896920e-01   5.99139692e-02 ...,   5.41676973e-04\n",
      "   3.39194869e-07   8.35974154e-07]\n"
     ]
    }
   ],
   "source": [
    "save_ans(y_pred, 'contest1_full_mix2')"
   ]
  },
  {
   "cell_type": "code",
   "execution_count": 15,
   "metadata": {
    "collapsed": false,
    "deletable": true,
    "editable": true
   },
   "outputs": [
    {
     "name": "stdout",
     "output_type": "stream",
     "text": [
      "[ 0.27163323  0.18229266  0.         ...,  0.          0.          0.        ]\n"
     ]
    }
   ],
   "source": [
    "files = [ 'countVectorizer1'\n",
    "        ]\n",
    "\n",
    "for f in files:\n",
    "    data = np.array(pd.read_csv(f)['Answer'])\n",
    "for i in range(len(data)):\n",
    "    if data[i] < 0.1:\n",
    "        data[i] = 0\n",
    "    if data[i] > 0.99:\n",
    "        data[i]  = 1\n",
    "    \n",
    "save_ans(data, 'countVectorizer1_cliped0_1_and_0_99')"
   ]
  },
  {
   "cell_type": "code",
   "execution_count": 69,
   "metadata": {
    "collapsed": false,
    "deletable": true,
    "editable": true
   },
   "outputs": [
    {
     "name": "stdout",
     "output_type": "stream",
     "text": [
      "[array([ 0.22736869,  0.10822005,  0.18498921, ...,  0.12425834,\n",
      "        0.0267048 ,  0.0267048 ]), array([ 0.31276735,  0.16688845,  0.31374668, ...,  0.11295054,\n",
      "        0.00637569,  0.01141766])]\n"
     ]
    }
   ],
   "source": [
    "print(data)"
   ]
  },
  {
   "cell_type": "code",
   "execution_count": 80,
   "metadata": {
    "collapsed": false,
    "deletable": true,
    "editable": true
   },
   "outputs": [
    {
     "data": {
      "text/plain": [
       "array([2, 4])"
      ]
     },
     "execution_count": 80,
     "metadata": {},
     "output_type": "execute_result"
    }
   ],
   "source": [
    "a = np.array([[1,2],[3,4]])\n",
    "a[:,1]"
   ]
  },
  {
   "cell_type": "code",
   "execution_count": null,
   "metadata": {
    "collapsed": true
   },
   "outputs": [],
   "source": []
  }
 ],
 "metadata": {
  "kernelspec": {
   "display_name": "Python 3",
   "language": "python",
   "name": "python3"
  },
  "language_info": {
   "codemirror_mode": {
    "name": "ipython",
    "version": 3
   },
   "file_extension": ".py",
   "mimetype": "text/x-python",
   "name": "python",
   "nbconvert_exporter": "python",
   "pygments_lexer": "ipython3",
   "version": "3.6.0"
  }
 },
 "nbformat": 4,
 "nbformat_minor": 2
}
