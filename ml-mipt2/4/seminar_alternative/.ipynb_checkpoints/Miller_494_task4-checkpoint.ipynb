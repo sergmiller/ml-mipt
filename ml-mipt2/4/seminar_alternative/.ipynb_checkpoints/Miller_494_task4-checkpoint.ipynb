{
 "cells": [
  {
   "cell_type": "markdown",
   "metadata": {},
   "source": [
    "Посколько в задании не сказано каким образом обучаться, воспользовался обоими методами, генетическим и q-learning"
   ]
  },
  {
   "cell_type": "markdown",
   "metadata": {},
   "source": [
    "## Genetic"
   ]
  },
  {
   "cell_type": "code",
   "execution_count": 12,
   "metadata": {},
   "outputs": [
    {
     "name": "stderr",
     "output_type": "stream",
     "text": [
      "[2017-10-24 20:34:52,705] Making new env: Taxi-v2\n"
     ]
    }
   ],
   "source": [
    "import gym\n",
    "\n",
    "#create a single game instance\n",
    "env = gym.make(\"Taxi-v2\")\n",
    "\n",
    "#start new game\n",
    "env.reset();"
   ]
  },
  {
   "cell_type": "code",
   "execution_count": 13,
   "metadata": {},
   "outputs": [
    {
     "name": "stdout",
     "output_type": "stream",
     "text": [
      "+---------+\n",
      "|R: | : :\u001b[35mG\u001b[0m|\n",
      "| : :\u001b[43m \u001b[0m: : |\n",
      "| : : : : |\n",
      "| | : | : |\n",
      "|\u001b[34;1mY\u001b[0m| : |B: |\n",
      "+---------+\n",
      "\n"
     ]
    }
   ],
   "source": [
    "# display the game state\n",
    "env.render()"
   ]
  },
  {
   "cell_type": "code",
   "execution_count": 14,
   "metadata": {},
   "outputs": [
    {
     "name": "stdout",
     "output_type": "stream",
     "text": [
      "initial observation code: 491\n",
      "printing observation:\n",
      "+---------+\n",
      "|R: | : :G|\n",
      "| : : : : |\n",
      "| : : : : |\n",
      "| | : | : |\n",
      "|\u001b[34;1mY\u001b[0m| : |\u001b[35mB\u001b[0m:\u001b[43m \u001b[0m|\n",
      "+---------+\n",
      "\n",
      "observations: Discrete(500) n= 500\n",
      "actions: Discrete(6) n= 6\n"
     ]
    }
   ],
   "source": [
    "print(\"initial observation code:\", env.reset())\n",
    "print('printing observation:')\n",
    "env.render()\n",
    "print(\"observations:\", env.observation_space, 'n=', env.observation_space.n)\n",
    "print(\"actions:\", env.action_space, 'n=', env.action_space.n)"
   ]
  },
  {
   "cell_type": "code",
   "execution_count": 15,
   "metadata": {},
   "outputs": [
    {
     "name": "stdout",
     "output_type": "stream",
     "text": [
      "taking action 2 (right)\n",
      "new observation code: 491\n",
      "reward: -1\n",
      "is game over?: False\n",
      "printing new state:\n",
      "+---------+\n",
      "|R: | : :G|\n",
      "| : : : : |\n",
      "| : : : : |\n",
      "| | : | : |\n",
      "|\u001b[34;1mY\u001b[0m| : |\u001b[35mB\u001b[0m:\u001b[43m \u001b[0m|\n",
      "+---------+\n",
      "  (East)\n"
     ]
    }
   ],
   "source": [
    "print(\"taking action 2 (right)\")\n",
    "new_obs, reward, is_done, _ = env.step(2)\n",
    "print(\"new observation code:\", new_obs)\n",
    "print(\"reward:\", reward)\n",
    "print(\"is game over?:\", is_done)\n",
    "print(\"printing new state:\")\n",
    "env.render()"
   ]
  },
  {
   "cell_type": "code",
   "execution_count": 16,
   "metadata": {},
   "outputs": [],
   "source": [
    "action_to_i = {\n",
    "    'left':3,\n",
    "    'down':0,\n",
    "    'right':2,\n",
    "    'up':1,\n",
    "    'pick':4,\n",
    "    'drop':5,\n",
    "}"
   ]
  },
  {
   "cell_type": "code",
   "execution_count": 17,
   "metadata": {},
   "outputs": [
    {
     "name": "stdout",
     "output_type": "stream",
     "text": [
      "+---------+\n",
      "|R: | : :G|\n",
      "| : : : : |\n",
      "| : : : : |\n",
      "| | : | : |\n",
      "|\u001b[34;1mY\u001b[0m| : |\u001b[35mB\u001b[0m:\u001b[43m \u001b[0m|\n",
      "+---------+\n",
      "  (South)\n"
     ]
    }
   ],
   "source": [
    "env.step(action_to_i['down'])\n",
    "env.render()"
   ]
  },
  {
   "cell_type": "code",
   "execution_count": 24,
   "metadata": {},
   "outputs": [],
   "source": [
    "import numpy as np\n",
    "n_states = env.observation_space.n\n",
    "n_actions = env.action_space.n\n",
    "\n",
    "def get_random_policy():\n",
    "    \"\"\"\n",
    "    Build a numpy array representing agent policy.\n",
    "    This array must have one element per each of 16 environment states.\n",
    "    Element must be an integer from 0 to 3, representing action\n",
    "    to take from that state.\n",
    "    \"\"\"\n",
    "    return np.random.choice(replace=True,a=np.arange(6),size=500)"
   ]
  },
  {
   "cell_type": "code",
   "execution_count": 39,
   "metadata": {},
   "outputs": [],
   "source": [
    "def sample_reward(env, policy, t_max=100):\n",
    "    \"\"\"\n",
    "    Interact with an environment, return sum of all rewards.\n",
    "    If game doesn't end on t_max (e.g. agent walks into a wall), \n",
    "    force end the game and return whatever reward you got so far.\n",
    "    Tip: see signature of env.step(...) method above.\n",
    "    \"\"\"\n",
    "    s = env.reset()\n",
    "    sum_reward = 0\n",
    "    cur_state = 0\n",
    "    \n",
    "    for _ in np.arange(t_max):\n",
    "        s, reward, is_done, _ = env.step(policy[s])\n",
    "        sum_reward += reward\n",
    "        if is_done:\n",
    "            break\n",
    "    return sum_reward"
   ]
  },
  {
   "cell_type": "code",
   "execution_count": 40,
   "metadata": {},
   "outputs": [],
   "source": [
    "def evaluate(policy, n_times=100):\n",
    "    \"\"\"Run several evaluations and average the score the policy gets.\"\"\"\n",
    "    rewards = [sample_reward(env, policy) for _ in range(n_times)]\n",
    "    return float(np.mean(rewards))"
   ]
  },
  {
   "cell_type": "code",
   "execution_count": 41,
   "metadata": {},
   "outputs": [],
   "source": [
    "import scipy.stats as sps\n",
    "def crossover(policy1, policy2, p=0.5):\n",
    "    \"\"\"\n",
    "    for each state, with probability p take action from policy1, else policy2\n",
    "    \"\"\"\n",
    "    choose = sps.bernoulli.rvs(size=policy1.shape, p=p)\n",
    "    return np.where(choose, policy1, policy2)"
   ]
  },
  {
   "cell_type": "code",
   "execution_count": 42,
   "metadata": {},
   "outputs": [],
   "source": [
    "def mutation(policy, p=0.1):\n",
    "    \"\"\"\n",
    "    for each state, with probability p replace action with random action\n",
    "    Tip: mutation can be written as crossover with random policy\n",
    "    \"\"\"\n",
    "    return crossover(get_random_policy(), policy, p)\n",
    "    "
   ]
  },
  {
   "cell_type": "code",
   "execution_count": 43,
   "metadata": {},
   "outputs": [
    {
     "name": "stdout",
     "output_type": "stream",
     "text": [
      "Seems fine!\n"
     ]
    }
   ],
   "source": [
    "np.random.seed(1234)\n",
    "policies = [crossover(get_random_policy(), get_random_policy()) \n",
    "            for i in range(10**4)]\n",
    "\n",
    "assert all([len(p) == n_states for p in policies]), 'policy length should always be 16'\n",
    "assert np.min(policies) == 0, 'minimal action id should be 0'\n",
    "assert np.max(policies) == n_actions-1, 'maximal action id should be n_actions-1'\n",
    "\n",
    "assert any([np.mean(crossover(np.zeros(n_states), np.ones(n_states))) not in (0, 1)\n",
    "               for _ in range(100)]), \"Make sure your crossover changes each action independently\"\n",
    "print(\"Seems fine!\")"
   ]
  },
  {
   "cell_type": "code",
   "execution_count": 48,
   "metadata": {},
   "outputs": [],
   "source": [
    "n_epochs = 100 #how many cycles to make\n",
    "pool_size = 150 #how many policies to maintain\n",
    "n_crossovers = 50 #how many crossovers to make on each step\n",
    "n_mutations = 50 #how many mutations to make on each tick"
   ]
  },
  {
   "cell_type": "code",
   "execution_count": 49,
   "metadata": {},
   "outputs": [
    {
     "name": "stdout",
     "output_type": "stream",
     "text": [
      "initializing...\n"
     ]
    }
   ],
   "source": [
    "print(\"initializing...\")\n",
    "pool = [get_random_policy() for _ in np.arange(pool_size)]\n",
    "pool_scores = [evaluate(policy) for policy in pool]"
   ]
  },
  {
   "cell_type": "code",
   "execution_count": 50,
   "metadata": {},
   "outputs": [],
   "source": [
    "assert type(pool) == type(pool_scores) == list\n",
    "assert len(pool) == len(pool_scores) == pool_size\n",
    "assert all([type(score) in (float, int) for score in pool_scores])"
   ]
  },
  {
   "cell_type": "code",
   "execution_count": 51,
   "metadata": {},
   "outputs": [
    {
     "name": "stdout",
     "output_type": "stream",
     "text": [
      "Start Taxi Learning with n_epoches: 100, pool_size: 150, n_crossovers: 50, n_mutations: 50\n",
      "\u001b[0mEpoch 0:\n",
      "\u001b[0mbest score: -448.93\n",
      "\u001b[0mEpoch 1:\n",
      "\u001b[0mbest score: -431.83\n",
      "\u001b[0mEpoch 2:\n",
      "\u001b[0mbest score: -431.56\n",
      "\u001b[0mEpoch 3:\n",
      "\u001b[0mbest score: -413.92\n",
      "\u001b[0mEpoch 4:\n",
      "\u001b[0mbest score: -395.56\n",
      "\u001b[0mEpoch 5:\n",
      "\u001b[0mbest score: -405.19\n",
      "\u001b[0mEpoch 6:\n",
      "\u001b[0mbest score: -396.1\n",
      "\u001b[0mEpoch 7:\n",
      "\u001b[0mbest score: -404.65\n",
      "\u001b[0mEpoch 8:\n",
      "\u001b[0mbest score: -368.65\n",
      "\u001b[0mEpoch 9:\n",
      "\u001b[0mbest score: -386.83\n",
      "\u001b[0mEpoch 10:\n",
      "\u001b[0mbest score: -342.28\n",
      "\u001b[0mEpoch 11:\n",
      "\u001b[0mbest score: -386.92\n",
      "\u001b[0mEpoch 12:\n",
      "\u001b[0mbest score: -350.92\n",
      "\u001b[0mEpoch 13:\n",
      "\u001b[0mbest score: -279.55\n",
      "\u001b[0mEpoch 14:\n",
      "\u001b[0mbest score: -350.29\n",
      "\u001b[0mEpoch 15:\n",
      "\u001b[0mbest score: -333.1\n",
      "\u001b[0mEpoch 16:\n",
      "\u001b[0mbest score: -350.65\n",
      "\u001b[0mEpoch 17:\n",
      "\u001b[0mbest score: -349.84\n",
      "\u001b[0mEpoch 18:\n",
      "\u001b[0mbest score: -305.47\n",
      "\u001b[0mEpoch 19:\n",
      "\u001b[0mbest score: -351.82\n",
      "\u001b[0mEpoch 20:\n",
      "\u001b[0mbest score: -332.47\n",
      "\u001b[0mEpoch 21:\n",
      "\u001b[0mbest score: -350.92\n",
      "\u001b[0mEpoch 22:\n",
      "\u001b[0mbest score: -278.92\n",
      "\u001b[0mEpoch 23:\n",
      "\u001b[0mbest score: -296.56\n",
      "\u001b[0mEpoch 24:\n",
      "\u001b[0mbest score: -297.64\n",
      "\u001b[0mEpoch 25:\n",
      "\u001b[0mbest score: -323.83\n",
      "\u001b[0mEpoch 26:\n",
      "\u001b[0mbest score: -297.55\n",
      "\u001b[0mEpoch 27:\n",
      "\u001b[0mbest score: -279.19\n",
      "\u001b[0mEpoch 28:\n",
      "\u001b[0mbest score: -287.56\n",
      "\u001b[0mEpoch 29:\n",
      "\u001b[0mbest score: -297.1\n",
      "\u001b[0mEpoch 30:\n",
      "\u001b[0mbest score: -269.38\n",
      "\u001b[0mEpoch 31:\n",
      "\u001b[0mbest score: -252.37\n",
      "\u001b[0mEpoch 32:\n",
      "\u001b[0mbest score: -278.65\n",
      "\u001b[0mEpoch 33:\n",
      "\u001b[0mbest score: -288.19\n",
      "\u001b[0mEpoch 34:\n",
      "\u001b[0mbest score: -243.19\n",
      "\u001b[0mEpoch 35:\n",
      "\u001b[0mbest score: -260.83\n",
      "\u001b[0mEpoch 36:\n",
      "\u001b[0mbest score: -252.55\n",
      "\u001b[0mEpoch 37:\n",
      "\u001b[0mbest score: -270.46\n",
      "\u001b[0mEpoch 38:\n",
      "\u001b[0mbest score: -252.1\n",
      "\u001b[0mEpoch 39:\n",
      "\u001b[0mbest score: -261.19\n",
      "\u001b[0mEpoch 40:\n",
      "\u001b[0mbest score: -252.37\n",
      "\u001b[0mEpoch 41:\n",
      "\u001b[0mbest score: -252.01\n",
      "\u001b[0mEpoch 42:\n",
      "\u001b[0mbest score: -225.37\n",
      "\u001b[0mEpoch 43:\n",
      "\u001b[0mbest score: -225.55\n",
      "\u001b[0mEpoch 44:\n",
      "\u001b[0mbest score: -189.91\n",
      "\u001b[0mEpoch 45:\n",
      "\u001b[0mbest score: -234.46\n",
      "\u001b[0mEpoch 46:\n",
      "\u001b[0mbest score: -243.37\n",
      "\u001b[0mEpoch 47:\n",
      "\u001b[0mbest score: -207.37\n",
      "\u001b[0mEpoch 48:\n",
      "\u001b[0mbest score: -216.64\n",
      "\u001b[0mEpoch 49:\n",
      "\u001b[0mbest score: -207.64\n",
      "\u001b[0mEpoch 50:\n",
      "\u001b[0mbest score: -216.01\n",
      "\u001b[0mEpoch 51:\n",
      "\u001b[0mbest score: -216.46\n",
      "\u001b[0mEpoch 52:\n",
      "\u001b[0mbest score: -207.19\n",
      "\u001b[0mEpoch 53:\n",
      "\u001b[0mbest score: -198.73\n",
      "\u001b[0mEpoch 54:\n",
      "\u001b[0mbest score: -189.82\n",
      "\u001b[0mEpoch 55:\n",
      "\u001b[0mbest score: -198.55\n",
      "\u001b[0mEpoch 56:\n",
      "\u001b[0mbest score: -153.91\n",
      "\u001b[0mEpoch 57:\n",
      "\u001b[0mbest score: -180.55\n",
      "\u001b[0mEpoch 58:\n",
      "\u001b[0mbest score: -207.64\n",
      "\u001b[0mEpoch 59:\n",
      "\u001b[0mbest score: -198.64\n",
      "\u001b[0mEpoch 60:\n",
      "\u001b[0mbest score: -198.1\n",
      "\u001b[0mEpoch 61:\n",
      "\u001b[0mbest score: -207.37\n",
      "\u001b[0mEpoch 62:\n",
      "\u001b[0mbest score: -162.91\n",
      "\u001b[0mEpoch 63:\n",
      "\u001b[0mbest score: -189.91\n",
      "\u001b[0mEpoch 64:\n",
      "\u001b[0mbest score: -189.64\n",
      "\u001b[0mEpoch 65:\n",
      "\u001b[0mbest score: -197.38\n",
      "\u001b[0mEpoch 66:\n",
      "\u001b[0mbest score: -180.55\n",
      "\u001b[0mEpoch 67:\n",
      "\u001b[0mbest score: -171.91\n",
      "\u001b[0mEpoch 68:\n",
      "\u001b[0mbest score: -180.01\n",
      "\u001b[0mEpoch 69:\n",
      "\u001b[0mbest score: -162.73\n",
      "\u001b[0mEpoch 70:\n",
      "\u001b[0mbest score: -163.0\n",
      "\u001b[0mEpoch 71:\n",
      "\u001b[0mbest score: -153.82\n",
      "\u001b[0mEpoch 72:\n",
      "\u001b[0mbest score: -180.37\n",
      "\u001b[0mEpoch 73:\n",
      "\u001b[0mbest score: -171.37\n",
      "\u001b[0mEpoch 74:\n",
      "\u001b[0mbest score: -126.91\n",
      "\u001b[0mEpoch 75:\n",
      "\u001b[0mbest score: -153.64\n",
      "\u001b[0mEpoch 76:\n",
      "\u001b[0mbest score: -144.64\n",
      "\u001b[0mEpoch 77:\n",
      "\u001b[0mbest score: -162.91\n",
      "\u001b[0mEpoch 78:\n",
      "\u001b[0mbest score: -144.91\n",
      "\u001b[0mEpoch 79:\n",
      "\u001b[0mbest score: -145.0\n",
      "\u001b[0mEpoch 80:\n",
      "\u001b[0mbest score: -145.0\n",
      "\u001b[0mEpoch 81:\n",
      "\u001b[0mbest score: -144.82\n",
      "\u001b[0mEpoch 82:\n",
      "\u001b[0mbest score: -135.73\n",
      "\u001b[0mEpoch 83:\n",
      "\u001b[0mbest score: -135.91\n",
      "\u001b[0mEpoch 84:\n",
      "\u001b[0mbest score: -135.82\n",
      "\u001b[0mEpoch 85:\n",
      "\u001b[0mbest score: -135.82\n",
      "\u001b[0mEpoch 86:\n",
      "\u001b[0mbest score: -126.91\n",
      "\u001b[0mEpoch 87:\n",
      "\u001b[0mbest score: -144.73\n",
      "\u001b[0mEpoch 88:\n",
      "\u001b[0mbest score: -136.0\n",
      "\u001b[0mEpoch 89:\n",
      "\u001b[0mbest score: -118.0\n",
      "\u001b[0mEpoch 90:\n",
      "\u001b[0mbest score: -118.0\n",
      "\u001b[0mEpoch 91:\n",
      "\u001b[0mbest score: -135.64\n",
      "\u001b[0mEpoch 92:\n",
      "\u001b[0mbest score: -126.91\n",
      "\u001b[0mEpoch 93:\n",
      "\u001b[0mbest score: -109.0\n",
      "\u001b[0mEpoch 94:\n",
      "\u001b[0mbest score: -126.82\n",
      "\u001b[0mEpoch 95:\n",
      "\u001b[0mbest score: -117.91\n",
      "\u001b[0mEpoch 96:\n",
      "\u001b[0mbest score: -118.0\n",
      "\u001b[0mEpoch 97:\n",
      "\u001b[0mbest score: -100.0\n",
      "\u001b[0mEpoch 98:\n",
      "\u001b[0mbest score: -117.91\n",
      "\u001b[0mEpoch 99:\n",
      "\u001b[0mbest score: -109.0\n",
      "\u001b[0m"
     ]
    }
   ],
   "source": [
    "#main loop\n",
    "reward = []\n",
    "modify = lambda s: \"'\" + s + \"'\"\n",
    "config = \"Start Taxi Learning with n_epoches: {}, pool_size: {}, n_crossovers: {}, n_mutations: {}\".format(\n",
    "    n_epochs, pool_size, n_crossovers, n_mutations,\n",
    ")\n",
    "print(config)\n",
    "# config = modify(config)\n",
    "# !telegram-send $config\n",
    "for epoch in range(n_epochs):\n",
    "    epoch_start_msg = \"Epoch %s:\"%epoch\n",
    "    print(epoch_start_msg)\n",
    "#     epoch_start_msg = modify(epoch_start_msg)\n",
    "#     !telegram-send $epoch_start_msg\n",
    "    crossovered = [crossover(pool[ind[0]], pool[ind[1]]) \n",
    "                   for ind in np.random.choice(a=np.arange(len(pool)), size=2*n_crossovers).reshape((-1, 2))]\n",
    "    mutated = [mutation(pool[ind]) for ind in np.random.choice(a=np.arange(len(pool)),size=n_mutations)]\n",
    "    \n",
    "    #add new policies to the pool\n",
    "    pool.extend(crossovered)\n",
    "    pool.extend(mutated)\n",
    "    pool_scores = [evaluate(policy) for policy in pool]\n",
    "    \n",
    "    #select pool_size best policies\n",
    "    selected_indices = np.argsort(pool_scores)[-pool_size:]\n",
    "    pool = [pool[i] for i in selected_indices]\n",
    "    pool_scores = [pool_scores[i] for i in selected_indices]\n",
    "\n",
    "    #print the best policy so far (last in ascending score order)\n",
    "    line = \"best score: {}\".format(pool_scores[-1]) \n",
    "    reward.append(pool_scores[-1])\n",
    "    print(line)\n",
    "#     line = modify(line)\n",
    "#     !telegram-send $line\n",
    "#     print_policy(pool[-1])"
   ]
  },
  {
   "cell_type": "code",
   "execution_count": 52,
   "metadata": {},
   "outputs": [
    {
     "data": {
      "text/plain": [
       "[<matplotlib.lines.Line2D at 0x11320ab38>]"
      ]
     },
     "execution_count": 52,
     "metadata": {},
     "output_type": "execute_result"
    },
    {
     "data": {
      "image/png": "[encoded data removed]",
      "text/plain": [
       "<matplotlib.figure.Figure at 0x1137a8fd0>"
      ]
     },
     "metadata": {},
     "output_type": "display_data"
    }
   ],
   "source": [
    "plt.plot(reward)"
   ]
  },
  {
   "cell_type": "markdown",
   "metadata": {},
   "source": [
    "## Q-learning"
   ]
  },
  {
   "cell_type": "code",
   "execution_count": 1,
   "metadata": {},
   "outputs": [],
   "source": [
    "#XVFB will be launched if you run on a server\n",
    "import os\n",
    "if type(os.environ.get(\"DISPLAY\")) is not str or len(os.environ.get(\"DISPLAY\"))==0:\n",
    "    !bash ../xvfb start\n",
    "    %env DISPLAY=:1\n",
    "\n",
    "import numpy as np\n",
    "import matplotlib.pyplot as plt\n",
    "%matplotlib inline\n",
    "from tqdm import tqdm\n",
    "from IPython.display import clear_output"
   ]
  },
  {
   "cell_type": "markdown",
   "metadata": {},
   "source": [
    "### Demo on taxi\n",
    "\n",
    "Here we use the qlearning agent from before on taxi env from openai gym.\n",
    "You will need to insert a few agent functions here."
   ]
  },
  {
   "cell_type": "code",
   "execution_count": 2,
   "metadata": {},
   "outputs": [
    {
     "name": "stderr",
     "output_type": "stream",
     "text": [
      "[2017-10-24 17:44:29,019] Making new env: Taxi-v2\n"
     ]
    }
   ],
   "source": [
    "import gym\n",
    "env = gym.make(\"Taxi-v2\")\n",
    "\n",
    "n_actions = env.action_space.n"
   ]
  },
  {
   "cell_type": "code",
   "execution_count": 3,
   "metadata": {},
   "outputs": [],
   "source": [
    "from qlearning import QLearningAgent"
   ]
  },
  {
   "cell_type": "code",
   "execution_count": 4,
   "metadata": {},
   "outputs": [],
   "source": [
    "def play_and_train(env,agent,t_max=10**4):\n",
    "    \"\"\"This function should \n",
    "    - run a full game, actions given by agent.getAction(s)\n",
    "    - train agent using agent.update(...) whenever possible\n",
    "    - return total reward\"\"\"\n",
    "    total_reward = 0.0\n",
    "    s = env.reset()\n",
    "    \n",
    "    for t in range(t_max):\n",
    "        a = agent.getAction(s)\n",
    "        \n",
    "        next_s, r, done, _ = env.step(a)\n",
    "        \n",
    "        agent.update(s, a, next_s, r)\n",
    "\n",
    "        s = next_s\n",
    "        \n",
    "        total_reward += r\n",
    "        if done:\n",
    "            break\n",
    "        \n",
    "    return total_reward "
   ]
  },
  {
   "cell_type": "code",
   "execution_count": 10,
   "metadata": {},
   "outputs": [
    {
     "name": "stdout",
     "output_type": "stream",
     "text": [
      "8.44\n",
      "0.40000000000000024\n",
      "3.885412266959203e-05\n"
     ]
    },
    {
     "data": {
      "image/png": "[encoded data removed]",
      "text/plain": [
       "<matplotlib.figure.Figure at 0x11588a588>"
      ]
     },
     "metadata": {},
     "output_type": "display_data"
    },
    {
     "name": "stdout",
     "output_type": "stream",
     "text": [
      "\u001b[0m"
     ]
    },
    {
     "name": "stderr",
     "output_type": "stream",
     "text": [
      "100%|██████████| 100000/100000 [05:47<00:00, 227.11it/s]\n"
     ]
    },
    {
     "name": "stdout",
     "output_type": "stream",
     "text": [
      "\u001b[0m"
     ]
    }
   ],
   "source": [
    "rewards = []\n",
    "alpha_bound = 0.4\n",
    "agent = QLearningAgent(alpha=0.9,epsilon=0.9,discount=0.5,\n",
    "                   getLegalActions = lambda s: range(n_actions))\n",
    "\n",
    "# !telegram-send \"Start Taxi Q-learning\"\n",
    "\n",
    "for i in tqdm(np.arange(1000*100) + 1, position=0):\n",
    "    rewards.append(play_and_train(env,agent))\n",
    "    \n",
    "    if i % 100 == 0:\n",
    "        agent.epsilon *= 0.99\n",
    "        agent.alpha = alpha_bound + (agent.alpha - alpha_bound) * 0.9\n",
    "        clear_output(True)\n",
    "        print(np.mean(rewards[-100:]))\n",
    "        print(agent.alpha)\n",
    "        print(agent.epsilon)\n",
    "        plt.plot(rewards[-100:])\n",
    "        plt.ylim([-20, 20])\n",
    "        plt.show()\n",
    "\n",
    "#     if i % 1000 == 0:\n",
    "#         info = \"'Epoch: {}, epsilon: {:.3f}, lr: {:.3f}, last 1000 rewards mean: {}'\".format(int(i/1000), agent.epsilon, agent.alpha, np.mean(rewards[-1000:]))\n",
    "#         !telegram-send $info\n",
    "# !telegram-send \"Finish Taxi Q-learning\""
   ]
  },
  {
   "cell_type": "code",
   "execution_count": 11,
   "metadata": {},
   "outputs": [
    {
     "data": {
      "text/plain": [
       "[<matplotlib.lines.Line2D at 0x11324f9b0>]"
      ]
     },
     "execution_count": 11,
     "metadata": {},
     "output_type": "execute_result"
    },
    {
     "data": {
      "image/png": "[encoded data removed]",
      "text/plain": [
       "<matplotlib.figure.Figure at 0x112fa5ef0>"
      ]
     },
     "metadata": {},
     "output_type": "display_data"
    }
   ],
   "source": [
    "plt.plot(rewards)"
   ]
  },
  {
   "cell_type": "code",
   "execution_count": 30,
   "metadata": {},
   "outputs": [
    {
     "data": {
      "text/plain": [
       "'1.23'"
      ]
     },
     "execution_count": 30,
     "metadata": {},
     "output_type": "execute_result"
    }
   ],
   "source": [
    "'{:.2f}'.format(1.2343214)"
   ]
  },
  {
   "cell_type": "code",
   "execution_count": 37,
   "metadata": {},
   "outputs": [
    {
     "data": {
      "text/plain": [
       "7"
      ]
     },
     "execution_count": 37,
     "metadata": {},
     "output_type": "execute_result"
    }
   ],
   "source": [
    "sum([np.random.binomial(n=1, p=0.1) for _ in range(100)])"
   ]
  },
  {
   "cell_type": "code",
   "execution_count": null,
   "metadata": {
    "collapsed": true
   },
   "outputs": [],
   "source": []
  },
  {
   "cell_type": "code",
   "execution_count": null,
   "metadata": {
    "collapsed": true
   },
   "outputs": [],
   "source": []
  },
  {
   "cell_type": "code",
   "execution_count": null,
   "metadata": {
    "collapsed": true
   },
   "outputs": [],
   "source": []
  }
 ],
 "metadata": {
  "kernelspec": {
   "display_name": "Python 3",
   "language": "python",
   "name": "python3"
  },
  "language_info": {
   "codemirror_mode": {
    "name": "ipython",
    "version": 3
   },
   "file_extension": ".py",
   "mimetype": "text/x-python",
   "name": "python",
   "nbconvert_exporter": "python",
   "pygments_lexer": "ipython3",
   "version": "3.6.1"
  }
 },
 "nbformat": 4,
 "nbformat_minor": 1
}
