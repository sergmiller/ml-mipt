{
 "cells": [
  {
   "cell_type": "markdown",
   "metadata": {},
   "source": [
    "### 2.1\n",
    "слишком много"
   ]
  },
  {
   "cell_type": "markdown",
   "metadata": {},
   "source": [
    "### 2.2\n",
    "Дано:$a(x) = \\sum a_i(x)/k$\n",
    "\n",
    "$bias: E_{X,Y,x,y}a(x) = E_{X,Y,x,y}a_1(x)$\n",
    "(из линейности матожа), \n",
    "то есть bias при бэггинге не уменьшается\n",
    "\n",
    "$variance: D_{X,Y,x,y} a(x)^2 = \\frac{1}{k^2}(\\sum D a_i(x) + \\sum cov_{i \\neq j} a_i(x) a_j(x)) \n",
    "= |аналогично 2.3| = \\rho \\sigma^2 + \\frac{1-\\rho}{n}\\sigma^2$ то есть бэггинг уменьшает variance примерно до порога $\\rho \\sigma^2$ при достаточном количестве элементов в сумме."
   ]
  },
  {
   "cell_type": "markdown",
   "metadata": {},
   "source": [
    "### 2.3\n",
    "Дано: $Dx_i = \\sigma^2, cor(x_i,x_j) = \\rho$, $D\\bar{x} =?$\n",
    "\n",
    "$D\\bar{x} = \\frac{1}{n^2}D\\sum x_i = \\frac{1}{n^2}(\\sum D x_i + \\sum cov_{i \\neq j} x_i x_j )\n",
    "= \\frac{1}{n^2}(n\\sigma^2 + n(n-1)\\rho \\sigma^2) = \\rho \\sigma^2 + \\frac{1-\\rho}{n}\\sigma^2$"
   ]
  },
  {
   "cell_type": "code",
   "execution_count": null,
   "metadata": {
    "collapsed": true
   },
   "outputs": [],
   "source": []
  }
 ],
 "metadata": {
  "kernelspec": {
   "display_name": "Python 3",
   "language": "python",
   "name": "python3"
  },
  "language_info": {
   "codemirror_mode": {
    "name": "ipython",
    "version": 3
   },
   "file_extension": ".py",
   "mimetype": "text/x-python",
   "name": "python",
   "nbconvert_exporter": "python",
   "pygments_lexer": "ipython3",
   "version": "3.6.0"
  }
 },
 "nbformat": 4,
 "nbformat_minor": 2
}
