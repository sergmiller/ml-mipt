{
 "cells": [
  {
   "cell_type": "markdown",
   "metadata": {},
   "source": [
    "### 4.1\n",
    "\n",
    "Рассмотрим ответ наивного Байесовского классификатора $\\hat{y}(x) = \\arg_y \\max P(y|x) = \\arg_y \\max \\frac{P(y)P(x|y)}{P(x)} =| \\text{из  независимости P(x) от y и равенства априорных вероятностей}|\\quad = \\arg_y \\max P(x|y) = \\arg_y \\max \\Pi_{k=1}^n \\frac{1}{\\sqrt{2 \\pi \\sigma^2}}e^{-\\frac{(x^{(k)}-\\mu_{yk})}{2\\sigma^2}} = \\arg_y \\min \\Sigma_{k=1}^n (x^{(k)} - \\mu_{yk})^2 = \\arg_y \\min |\\overline{x} - \\overline{\\mu_y}|$, что как раз равносильно отнесению объекта $x$ к классу $y$ с ближайшим центром $\\mu_y$"
   ]
  },
  {
   "cell_type": "markdown",
   "metadata": {},
   "source": [
    "### 4.2\n",
    "\n",
    "Пусть $q$ доля класса 1 в выборке. И $p$ - вероятность с которой алгоритм классификации выдает 1. Так как классификатор выдает всего 2 различных значения, то ROC кривая будет состоять из 3 точек, причем 2 из них это (0,0) и (1,1). \n",
    "\n",
    "Найдем 3 точку: рассмотрим порог $\\alpha$: $0 < \\alpha < 1$. Тогда координаты 3 точки: $(TPR(\\alpha), FPR(\\alpha))$, где $TPR = \\frac{TP}{TP+FN}$ и $FPR = \\frac{FP}{FP+TN}$. \n",
    "\n",
    "В среднем: $TP \\propto pq, FP \\propto p(1-q), TN \\propto q(1-p), FN \\propto (1-p)(1-q)$. \n",
    "\n",
    "Получаем, что $TPR(\\alpha) = FPR(\\alpha) = p$, то есть 3 точка лежит на прямой $y=x$, а значит ROC-AUC = 0.5"
   ]
  },
  {
   "cell_type": "markdown",
   "metadata": {},
   "source": [
    "### 4.3\n",
    "\n"
   ]
  }
 ],
 "metadata": {
  "kernelspec": {
   "display_name": "Python 3",
   "language": "python",
   "name": "python3"
  },
  "language_info": {
   "codemirror_mode": {
    "name": "ipython",
    "version": 3
   },
   "file_extension": ".py",
   "mimetype": "text/x-python",
   "name": "python",
   "nbconvert_exporter": "python",
   "pygments_lexer": "ipython3",
   "version": "3.5.2"
  }
 },
 "nbformat": 4,
 "nbformat_minor": 0
}
