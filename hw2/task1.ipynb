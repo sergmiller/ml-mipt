{
 "cells": [
  {
   "cell_type": "markdown",
   "metadata": {},
   "source": [
    "## 1.1\n",
    "\n",
    "Пусть для объектов выборки $x_1^{(0)}, \\dots x_n^{(0)}$, попавших в данный лист, таргеты равны $y_1^{(0)}, \\dots y_n^{(0)}$.\n",
    "\n",
    "В первом случае мы отвечаем усредненным значением: $M = \\overline{y^{(0)}}$\n",
    "\n",
    "Во втором - случайной величной $\\xi_i$ б принимающей равномерно значения $y_1^{(0)}, \\dots y_n^{(0)}$.\n",
    "\n",
    "Запишем матожидание MSE, где $y$ - истинное значение таргетов, $\\hat{y}$ - используемая оценка :\n",
    "\n",
    "$E ( L(y,\\hat{y}) ) = E (\\sum (y_i - \\hat{y_i})^2) = \\sum E(y_i - \\hat{y_i})^2 = \\sum E y_i^2 - 2\\sum E y_i E \\hat{y_i} + \\sum E \\hat {y_i} ^ 2$\n",
    "\n",
    "Для обоих случаев 1-ые слагаемые совпадают, так как не зависит от оценки. Для 2-го: \n",
    "\n",
    "1): $\\forall i: E \\hat{y_i} = E M = M$\n",
    "\n",
    "2): $\\forall i: E \\hat{y_i} = E \\xi_i =  \\overline{y^{(0)}} = M$\n",
    "\n",
    "Поэтому 2-ые слагаемые также совпадают.\n",
    "\n",
    "Рассмотрим 3-е:\n",
    "\n",
    "1):  $\\forall i: E \\hat{y_i}^2 = E M^2 = M^2$\n",
    "\n",
    "2):  $\\forall i: E \\hat{y_i}^2 = E \\xi^2 \\geq (E \\xi)^2 = M^2$\n",
    "\n",
    "То есть, в среднем вторая оценка не лучше первой, что и было заявлено. "
   ]
  },
  {
   "cell_type": "markdown",
   "metadata": {},
   "source": [
    "## 1.2\n",
    "\n",
    "здесь наверное тоже надо матож оценить, но непонятно как Ведь новые данные неизвестны"
   ]
  },
  {
   "cell_type": "markdown",
   "metadata": {},
   "source": [
    "## 1.3\n",
    "\n",
    "Считаем, что энтропия это $H(p) = - \\int_{\\mathbf{R}^n} p(x) \\ln p (x) d x$, где $p(x)$ - плотность распределения в точке. Для нормального распределения получим:\n",
    "\n",
    "$H(X) = - \\int_{\\mathbf{R}^n} p(x) \\ln p (x) d x = \n",
    "- \\sum \\ln \\frac{1}{(2\\pi)^{n/2}|\\Sigma|^{1/2}} e^{-\\frac{1}{2}(x^{(i)}-\\mu)^T\\Sigma^{-1}(x^{(i)}-\\mu)}$ =\n",
    "$ - \\sum \\big( -\\frac{1}{2} \\ln |\\Sigma| - \\frac{n}{2} \\ln 2\\pi -\\frac{1}{2}(x^{(i)}-\\mu)^T\\Sigma^{-1}(x^{(i)}-\\mu) \\big) = \n",
    "\\sum \\frac{1}{2} \\ln(|\\Sigma| (2\\pi)^n (x^{(i)}-\\mu)^T\\Sigma^{-1}(x^{(i)}-\\mu))$"
   ]
  },
  {
   "cell_type": "code",
   "execution_count": null,
   "metadata": {
    "collapsed": true
   },
   "outputs": [],
   "source": []
  }
 ],
 "metadata": {
  "kernelspec": {
   "display_name": "Python 3",
   "language": "python",
   "name": "python3"
  },
  "language_info": {
   "codemirror_mode": {
    "name": "ipython",
    "version": 3
   },
   "file_extension": ".py",
   "mimetype": "text/x-python",
   "name": "python",
   "nbconvert_exporter": "python",
   "pygments_lexer": "ipython3",
   "version": "3.6.0"
  }
 },
 "nbformat": 4,
 "nbformat_minor": 2
}
